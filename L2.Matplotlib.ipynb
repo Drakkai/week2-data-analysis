{
 "cells": [
  {
   "cell_type": "markdown",
   "metadata": {},
   "source": [
    "# Setup"
   ]
  },
  {
   "cell_type": "code",
   "execution_count": null,
   "metadata": {},
   "outputs": [],
   "source": [
    "# Download utils.py to working directory\n",
    "import urllib.request\n",
    "urllib.request.urlretrieve('https://raw.githubusercontent.com/ML-Challenge/week2-data-analysis/master/utils.py', 'utils.py')"
   ]
  },
  {
   "cell_type": "code",
   "execution_count": null,
   "metadata": {},
   "outputs": [],
   "source": [
    "# Import utils\n",
    "# We'll be using this module throughout the lesson\n",
    "import utils\n",
    "import numpy as np"
   ]
  },
  {
   "cell_type": "markdown",
   "metadata": {
    "toc-hr-collapsed": false
   },
   "source": [
    "# Basic plots with matplotlib"
   ]
  },
  {
   "cell_type": "markdown",
   "metadata": {},
   "source": [
    "### Line Plot"
   ]
  },
  {
   "cell_type": "markdown",
   "metadata": {},
   "source": [
    "With matplotlib, you can create a bunch of different plots in Python. The most basic plot is the line plot. A general recipe is given here:\n",
    "\n",
    "```\n",
    "import matplotlib.pyplot as plt\n",
    "plt.plot(x,y)\n",
    "plt.show()\n",
    "```"
   ]
  },
  {
   "cell_type": "markdown",
   "metadata": {},
   "source": [
    "The world bank has estimates of the world population for the years 1950 up to 2100. The years are loaded in as a list called ```year```, and the corresponding ```populations``` as a list called pop."
   ]
  },
  {
   "cell_type": "code",
   "execution_count": null,
   "metadata": {
    "ExecuteTime": {
     "end_time": "2020-01-27T12:45:50.283192Z",
     "start_time": "2020-01-27T12:45:50.053708Z"
    }
   },
   "outputs": [],
   "source": [
    "# Import matplotlib.pyplot as plt\n",
    "import matplotlib.pyplot as plt\n",
    "\n",
    "# This magic function sets up matplotlib's interactive mode\n",
    "%matplotlib inline"
   ]
  },
  {
   "cell_type": "code",
   "execution_count": null,
   "metadata": {
    "ExecuteTime": {
     "end_time": "2020-01-27T12:45:50.299145Z",
     "start_time": "2020-01-27T12:45:50.285182Z"
    }
   },
   "outputs": [],
   "source": [
    "# Print the last item from year and pop\n",
    "print(utils.year[-1])\n",
    "print(utils.pop[-1])"
   ]
  },
  {
   "cell_type": "code",
   "execution_count": null,
   "metadata": {
    "ExecuteTime": {
     "end_time": "2020-01-27T12:45:50.424833Z",
     "start_time": "2020-01-27T12:45:50.302137Z"
    }
   },
   "outputs": [],
   "source": [
    "# Make a line plot: year on the x-axis, pop on the y-axis\n",
    "plt.plot(utils.year, utils.pop)\n",
    "\n",
    "# Display the plot with plt.show()\n",
    "plt.show()"
   ]
  },
  {
   "cell_type": "markdown",
   "metadata": {},
   "source": [
    "Now that we've built your first line plot, let's start working on the data that professor Hans Rosling used to build his beautiful bubble chart. It was collected in 2007. Two lists are available:\n",
    "\n",
    "* ```life_exp``` which contains the life expectancy for each country and\n",
    "* ```gdp_cap```, which contains the GDP per capita (i.e. per person) for each country expressed in US Dollars."
   ]
  },
  {
   "cell_type": "markdown",
   "metadata": {},
   "source": [
    "GDP stands for Gross Domestic Product. It basically represents the size of the economy of a country. If we divide this by the population and we get the GDP per capita."
   ]
  },
  {
   "cell_type": "code",
   "execution_count": null,
   "metadata": {
    "ExecuteTime": {
     "end_time": "2020-01-27T12:45:50.440792Z",
     "start_time": "2020-01-27T12:45:50.427826Z"
    }
   },
   "outputs": [],
   "source": [
    "# Print the last item from both the list gdp_cap, and the list life_exp; \n",
    "# it is information about Zimbabwe.\n",
    "print(utils.gdp_cap[-1])\n",
    "print(utils.life_exp[-1])"
   ]
  },
  {
   "cell_type": "markdown",
   "metadata": {},
   "source": [
    "Build a line chart, with gdp_cap on the x-axis, and life_exp on the y-axis. Does it make sense to plot this data on a line plot?"
   ]
  },
  {
   "cell_type": "code",
   "execution_count": null,
   "metadata": {
    "ExecuteTime": {
     "end_time": "2020-01-27T12:45:50.551496Z",
     "start_time": "2020-01-27T12:45:50.442787Z"
    }
   },
   "outputs": [],
   "source": [
    "# Make a line plot, gdp_cap on the x-axis, life_exp on the y-axis\n",
    "plt.plot(utils.gdp_cap, utils.life_exp)\n",
    "\n",
    "# Display the plot\n",
    "plt.show()"
   ]
  },
  {
   "cell_type": "markdown",
   "metadata": {},
   "source": [
    "### Scatter Plot"
   ]
  },
  {
   "cell_type": "markdown",
   "metadata": {},
   "source": [
    "A time scale along the horizontal axis? The line plot is our friend. But in many other cases, when trying to assess if there's a correlation between two variables, for example, the scatter plot is the better choice. Below is an example of how to build a scatter plot.\n",
    "\n",
    "```\n",
    "import matplotlib.pyplot as plt\n",
    "plt.scatter(x,y)\n",
    "plt.show()\n",
    "```"
   ]
  },
  {
   "cell_type": "markdown",
   "metadata": {},
   "source": [
    "Let's continue with the gdp_cap versus life_exp plot, the GDP and life expectancy data for different countries in 2007. Maybe a scatter plot will be a better alternative?"
   ]
  },
  {
   "cell_type": "code",
   "execution_count": null,
   "metadata": {
    "ExecuteTime": {
     "end_time": "2020-01-27T12:45:50.894611Z",
     "start_time": "2020-01-27T12:45:50.553490Z"
    }
   },
   "outputs": [],
   "source": [
    "# Change the line plot below to a scatter plot\n",
    "plt.scatter(utils.gdp_cap, utils.life_exp)\n",
    "\n",
    "# Put the x-axis on a logarithmic scale\n",
    "plt.xscale(\"log\")\n",
    "\n",
    "# Show plot\n",
    "plt.show()"
   ]
  },
  {
   "cell_type": "markdown",
   "metadata": {},
   "source": [
    "We can see that the higher GDP usually corresponds to a higher life expectancy. In other words, there is a positive correlation."
   ]
  },
  {
   "cell_type": "markdown",
   "metadata": {},
   "source": [
    "Is there a relationship between population and life expectancy of a country? The list ```life_exp``` from the previous exercise is already available. In addition, also ```pop_2007``` is available, listing the corresponding populations for the countries in 2007. The populations are in millions of people."
   ]
  },
  {
   "cell_type": "code",
   "execution_count": null,
   "metadata": {
    "ExecuteTime": {
     "end_time": "2020-01-27T12:45:51.006361Z",
     "start_time": "2020-01-27T12:45:50.895577Z"
    }
   },
   "outputs": [],
   "source": [
    "# Build Scatter plot\n",
    "plt.scatter(utils.pop_2007, utils.life_exp)\n",
    "\n",
    "# Show plot\n",
    "plt.show()"
   ]
  },
  {
   "cell_type": "markdown",
   "metadata": {
    "ExecuteTime": {
     "end_time": "2020-01-27T10:45:25.351962Z",
     "start_time": "2020-01-27T10:45:25.345979Z"
    },
    "toc-hr-collapsed": true
   },
   "source": [
    "## Histograms"
   ]
  },
  {
   "cell_type": "markdown",
   "metadata": {},
   "source": [
    "### Build a Histogram"
   ]
  },
  {
   "cell_type": "markdown",
   "metadata": {},
   "source": [
    "To see how life expectancy in different countries is distributed, let's create a histogram of ```life_exp```."
   ]
  },
  {
   "cell_type": "code",
   "execution_count": null,
   "metadata": {
    "ExecuteTime": {
     "end_time": "2020-01-27T12:45:51.118128Z",
     "start_time": "2020-01-27T12:45:51.010269Z"
    }
   },
   "outputs": [],
   "source": [
    "# Create histogram of life_exp data\n",
    "plt.hist(utils.life_exp)\n",
    "\n",
    "# Display histogram\n",
    "plt.show()"
   ]
  },
  {
   "cell_type": "markdown",
   "metadata": {},
   "source": [
    "### Bins"
   ]
  },
  {
   "cell_type": "markdown",
   "metadata": {},
   "source": [
    "In the previous example, we didn't specify the number of bins. By default, Python sets the number of bins to 10 in that case. The number of bins is pretty important. Too few bins will oversimplify reality and won't show us the details. Too many bins will overcomplicate reality and won't show the bigger picture."
   ]
  },
  {
   "cell_type": "markdown",
   "metadata": {},
   "source": [
    "To control the number of bins to divide the data in, we can set the ```bins``` argument."
   ]
  },
  {
   "cell_type": "code",
   "execution_count": null,
   "metadata": {
    "ExecuteTime": {
     "end_time": "2020-01-27T12:45:51.227717Z",
     "start_time": "2020-01-27T12:45:51.119979Z"
    }
   },
   "outputs": [],
   "source": [
    "# Build histogram with 5 bins\n",
    "plt.hist(utils.life_exp, bins = 5)\n",
    "\n",
    "# Show plot\n",
    "plt.show()"
   ]
  },
  {
   "cell_type": "code",
   "execution_count": null,
   "metadata": {
    "ExecuteTime": {
     "end_time": "2020-01-27T12:45:51.383273Z",
     "start_time": "2020-01-27T12:45:51.229684Z"
    }
   },
   "outputs": [],
   "source": [
    "# Build histogram with 20 bins\n",
    "plt.hist(utils.life_exp, bins = 20)\n",
    "\n",
    "# Show again\n",
    "plt.show()"
   ]
  },
  {
   "cell_type": "markdown",
   "metadata": {},
   "source": [
    "### Compare"
   ]
  },
  {
   "cell_type": "markdown",
   "metadata": {},
   "source": [
    "Because we were using a histogram, it was very easy to make a comparison between present and future."
   ]
  },
  {
   "cell_type": "markdown",
   "metadata": {},
   "source": [
    "```life_exp``` contains life expectancy data for different countries in 2007. We also have access to a second list now, ```life_exp1950```, containing similar data for 1950. Let's create histogram for both datasets?"
   ]
  },
  {
   "cell_type": "code",
   "execution_count": null,
   "metadata": {
    "ExecuteTime": {
     "end_time": "2020-01-27T12:45:51.509934Z",
     "start_time": "2020-01-27T12:45:51.385267Z"
    }
   },
   "outputs": [],
   "source": [
    "# Histogram of life_exp, 15 bins\n",
    "plt.hist(utils.life_exp, bins = 15)\n",
    "\n",
    "# Show plot\n",
    "plt.show()"
   ]
  },
  {
   "cell_type": "code",
   "execution_count": null,
   "metadata": {
    "ExecuteTime": {
     "end_time": "2020-01-27T12:45:51.636595Z",
     "start_time": "2020-01-27T12:45:51.511929Z"
    }
   },
   "outputs": [],
   "source": [
    "# Histogram of life_exp1950, 15 bins\n",
    "plt.hist(utils.life_exp1950, bins = 15)\n",
    "\n",
    "# Show plot\n",
    "plt.show()"
   ]
  },
  {
   "cell_type": "markdown",
   "metadata": {},
   "source": [
    "Is there a big difference with the histogram for the 2007 data?"
   ]
  },
  {
   "cell_type": "markdown",
   "metadata": {
    "toc-hr-collapsed": true
   },
   "source": [
    "## Customization"
   ]
  },
  {
   "cell_type": "markdown",
   "metadata": {},
   "source": [
    "### Labels"
   ]
  },
  {
   "cell_type": "markdown",
   "metadata": {},
   "source": [
    "It's time to customize our plot. This is the fun part, we'll see how the plot comes to life!"
   ]
  },
  {
   "cell_type": "markdown",
   "metadata": {},
   "source": [
    "We're going to work on the scatter plot with world development data: GDP per capita on the x-axis (logarithmic scale), life expectancy on the y-axis."
   ]
  },
  {
   "cell_type": "markdown",
   "metadata": {},
   "source": [
    "As a first step, let's add axis labels and a title to the plot. We can do this with the [xlabel()](https://matplotlib.org/api/pyplot_api.html#matplotlib.pyplot.xlabel), [ylabel()](https://matplotlib.org/api/pyplot_api.html#matplotlib.pyplot.ylabel) and [title()](https://matplotlib.org/api/pyplot_api.html#matplotlib.pyplot.title) functions, available in matplotlib.pyplot."
   ]
  },
  {
   "cell_type": "code",
   "execution_count": null,
   "metadata": {
    "ExecuteTime": {
     "end_time": "2020-01-27T12:45:51.859121Z",
     "start_time": "2020-01-27T12:45:51.638590Z"
    }
   },
   "outputs": [],
   "source": [
    "# Basic scatter plot, log scale\n",
    "plt.scatter(utils.gdp_cap, utils.life_exp)\n",
    "plt.xscale('log')\n",
    "\n",
    "# Strings\n",
    "xlab = 'GDP per Capita [in USD]'\n",
    "ylab = 'Life Expectancy [in years]'\n",
    "title = 'World Development in 2007'\n",
    "\n",
    "# Add axis labels\n",
    "plt.xlabel(xlab)\n",
    "plt.ylabel(ylab)\n",
    "\n",
    "# Add title\n",
    "plt.title(title)\n",
    "\n",
    "# After customizing, display the plot\n",
    "plt.show()"
   ]
  },
  {
   "cell_type": "markdown",
   "metadata": {},
   "source": [
    "### Ticks"
   ]
  },
  {
   "cell_type": "markdown",
   "metadata": {},
   "source": [
    "```\n",
    "plt.yticks([0,1,2], [\"one\",\"two\",\"three\"])\n",
    "```\n",
    "\n",
    "In this example, the ticks corresponding to the numbers 0, 1 and 2 will be replaced by one, two and three, respectively."
   ]
  },
  {
   "cell_type": "markdown",
   "metadata": {},
   "source": [
    "Let's do a similar thing for the x-axis of your world development chart, with the [xticks()](https://matplotlib.org/api/pyplot_api.html#matplotlib.pyplot.xticks) function. The tick values ```1000```, ```10000``` and ```100000``` should be replaced by ```1k```, ```10k``` and ```100k```. To this end, two lists have already been created for you: ```tick_val``` and ```tick_lab```."
   ]
  },
  {
   "cell_type": "code",
   "execution_count": null,
   "metadata": {
    "ExecuteTime": {
     "end_time": "2020-01-27T12:45:52.049612Z",
     "start_time": "2020-01-27T12:45:51.861129Z"
    }
   },
   "outputs": [],
   "source": [
    "# Scatter plot\n",
    "plt.scatter(utils.gdp_cap, utils.life_exp)\n",
    "\n",
    "# Previous customizations\n",
    "plt.xscale('log') \n",
    "plt.xlabel('GDP per Capita [in USD]')\n",
    "plt.ylabel('Life Expectancy [in years]')\n",
    "plt.title('World Development in 2007')\n",
    "\n",
    "# Definition of tick_val and tick_lab\n",
    "tick_val = [1000,10000,100000]\n",
    "tick_lab = ['1k','10k','100k']\n",
    "\n",
    "# Adapt the ticks on the x-axis\n",
    "plt.xticks(tick_val, tick_lab)\n",
    "\n",
    "# After customizing, display the plot\n",
    "plt.show()"
   ]
  },
  {
   "cell_type": "markdown",
   "metadata": {},
   "source": [
    "### Sizes"
   ]
  },
  {
   "cell_type": "markdown",
   "metadata": {},
   "source": [
    "Right now, the scatter plot is just a cloud of blue dots, indistinguishable from each other. Let's change this. Wouldn't it be nice if the size of the dots corresponds to the population?"
   ]
  },
  {
   "cell_type": "markdown",
   "metadata": {},
   "source": [
    "To accomplish this, let's used the ```pop_2007``` list. It contains population numbers for each country expressed in millions. We can add te list to the scatter method, as the argument ```s```, for size."
   ]
  },
  {
   "cell_type": "code",
   "execution_count": null,
   "metadata": {
    "ExecuteTime": {
     "end_time": "2020-01-27T12:47:49.498502Z",
     "start_time": "2020-01-27T12:47:49.289064Z"
    }
   },
   "outputs": [],
   "source": [
    "# Store pop as a numpy array: np_pop\n",
    "np_pop = np.array(utils.pop_2007)\n",
    "\n",
    "# Double np_pop\n",
    "np_pop = np_pop * 2\n",
    "\n",
    "# Make the plot bigger\n",
    "plt.figure(figsize=(10,10))\n",
    "\n",
    "# Update: set s argument to np_pop\n",
    "plt.scatter(utils.gdp_cap, utils.life_exp, s = np_pop)\n",
    "\n",
    "# Customizations\n",
    "plt.xscale('log') \n",
    "plt.xlabel('GDP per Capita [in USD]')\n",
    "plt.ylabel('Life Expectancy [in years]')\n",
    "plt.title('World Development in 2007')\n",
    "plt.xticks([1000, 10000, 100000],['1k', '10k', '100k'])\n",
    "\n",
    "# Display the plot\n",
    "plt.show()"
   ]
  },
  {
   "cell_type": "markdown",
   "metadata": {},
   "source": [
    "### Colors"
   ]
  },
  {
   "cell_type": "markdown",
   "metadata": {},
   "source": [
    "The next step is making the plot more colorful! To do this, a list ```col``` has been created. It's a list with a color for each corresponding country, depending on the continent the country is part of.\n",
    "\n",
    "* Asia: red\n",
    "* Europe: green\n",
    "* Africa: blue\n",
    "* Americas: yellow\n",
    "* Oceania:black"
   ]
  },
  {
   "cell_type": "code",
   "execution_count": null,
   "metadata": {
    "ExecuteTime": {
     "end_time": "2020-01-27T13:25:54.597380Z",
     "start_time": "2020-01-27T13:25:54.377935Z"
    }
   },
   "outputs": [],
   "source": [
    "# Make the plot bigger\n",
    "plt.figure(figsize=(10,10))\n",
    "\n",
    "# Specify c and alpha inside plt.scatter()\n",
    "# Alpha can be set from zero to one, where zero is totally transparent, \n",
    "# and one is not at all transparent.\n",
    "plt.scatter(x = utils.gdp_cap, \n",
    "            y = utils.life_exp, \n",
    "            s = np.array(utils.pop_2007) * 2, \n",
    "            c=utils.col, \n",
    "            alpha=0.8)\n",
    "\n",
    "# Previous customizations\n",
    "plt.xscale('log') \n",
    "plt.xlabel('GDP per Capita [in USD]')\n",
    "plt.ylabel('Life Expectancy [in years]')\n",
    "plt.title('World Development in 2007')\n",
    "plt.xticks([1000,10000,100000], ['1k','10k','100k'])\n",
    "\n",
    "# Show the plot\n",
    "plt.show()"
   ]
  },
  {
   "cell_type": "markdown",
   "metadata": {},
   "source": [
    "### Legend"
   ]
  },
  {
   "cell_type": "code",
   "execution_count": null,
   "metadata": {
    "ExecuteTime": {
     "end_time": "2020-01-27T13:45:20.609272Z",
     "start_time": "2020-01-27T13:45:20.352988Z"
    }
   },
   "outputs": [],
   "source": [
    "from matplotlib.lines import Line2D\n",
    "\n",
    "# Make the plot bigger\n",
    "plt.figure(figsize=(10,10))\n",
    "\n",
    "# Specify c and alpha inside plt.scatter()\n",
    "# Alpha can be set from zero to one, where zero is totally transparent, \n",
    "# and one is not at all transparent.\n",
    "scatter = plt.scatter(x = utils.gdp_cap, \n",
    "            y = utils.life_exp, \n",
    "            s = np.array(utils.pop_2007) * 2, \n",
    "            c=utils.col, \n",
    "            alpha=0.8)\n",
    "\n",
    "# Previous customizations\n",
    "plt.xscale('log') \n",
    "plt.xlabel('GDP per Capita [in USD]')\n",
    "plt.ylabel('Life Expectancy [in years]')\n",
    "plt.title('World Development in 2007')\n",
    "plt.xticks([1000,10000,100000], ['1k','10k','100k'])\n",
    "\n",
    "# Add grid() call\n",
    "plt.grid(True)\n",
    "\n",
    "# Add a legend\n",
    "dict = {\n",
    "    'Asia':'red',\n",
    "    'Europe':'green',\n",
    "    'Africa':'blue',\n",
    "    'Americas':'yellow',\n",
    "    'Oceania':'black'\n",
    "}\n",
    "legend_handles = [Line2D([0],[0], linestyle=\"none\", marker=\"o\", alpha=0.6, \n",
    "                         markersize=12,markerfacecolor=color) \n",
    "                  for color in dict.values()]\n",
    " \n",
    "plt.legend(legend_handles, dict.keys(), numpoints=1, fontsize=12, loc=\"best\")\n",
    "\n",
    "# Show the plot\n",
    "plt.show()"
   ]
  },
  {
   "cell_type": "markdown",
   "metadata": {},
   "source": [
    "### Additional Customizations"
   ]
  },
  {
   "cell_type": "markdown",
   "metadata": {},
   "source": [
    "Let's add some labels for the biggest countries: ```India``` and ```China```."
   ]
  },
  {
   "cell_type": "code",
   "execution_count": null,
   "metadata": {
    "ExecuteTime": {
     "end_time": "2020-01-27T13:49:52.872525Z",
     "start_time": "2020-01-27T13:49:52.626186Z"
    }
   },
   "outputs": [],
   "source": [
    "from matplotlib.lines import Line2D\n",
    "\n",
    "# Make the plot bigger\n",
    "plt.figure(figsize=(10,10))\n",
    "\n",
    "# Specify c and alpha inside plt.scatter()\n",
    "# Alpha can be set from zero to one, where zero is totally transparent, \n",
    "# and one is not at all transparent.\n",
    "scatter = plt.scatter(x = utils.gdp_cap, \n",
    "            y = utils.life_exp, \n",
    "            s = np.array(utils.pop_2007) * 2, \n",
    "            c=utils.col, \n",
    "            alpha=0.8)\n",
    "\n",
    "# Previous customizations\n",
    "plt.xscale('log') \n",
    "plt.xlabel('GDP per Capita [in USD]')\n",
    "plt.ylabel('Life Expectancy [in years]')\n",
    "plt.title('World Development in 2007')\n",
    "plt.xticks([1000,10000,100000], ['1k','10k','100k'])\n",
    "\n",
    "# Additional customizations\n",
    "plt.text(1900, 67, 'India')\n",
    "plt.text(3500, 76, 'China')\n",
    "\n",
    "# Add grid() call\n",
    "plt.grid(True)\n",
    "\n",
    "# Add a legend\n",
    "dict = {\n",
    "    'Asia':'red',\n",
    "    'Europe':'green',\n",
    "    'Africa':'blue',\n",
    "    'Americas':'yellow',\n",
    "    'Oceania':'black'\n",
    "}\n",
    "legend_handles = [Line2D([0],[0], linestyle=\"none\", marker=\"o\", alpha=0.6, \n",
    "                         markersize=12,markerfacecolor=color) \n",
    "                  for color in dict.values()]\n",
    " \n",
    "plt.legend(legend_handles, dict.keys(), numpoints=1, fontsize=12, loc=\"best\")\n",
    "\n",
    "# Show the plot\n",
    "plt.show()"
   ]
  },
  {
   "cell_type": "markdown",
   "metadata": {},
   "source": [
    "---\n",
    "**[Week 2 - Data Analysis and Visualisation](https://radu-enuca.gitbook.io/ml-challenge/data-analysis-and-visualisation)**\n",
    "\n",
    "*Have questions or comments? Visit the ML Challenge Mattermost Channel.*"
   ]
  }
 ],
 "metadata": {
  "kernelspec": {
   "display_name": "Python 3",
   "language": "python",
   "name": "python3"
  },
  "language_info": {
   "codemirror_mode": {
    "name": "ipython",
    "version": 3
   },
   "file_extension": ".py",
   "mimetype": "text/x-python",
   "name": "python",
   "nbconvert_exporter": "python",
   "pygments_lexer": "ipython3",
   "version": "3.7.4"
  },
  "toc": {
   "base_numbering": 1,
   "nav_menu": {},
   "number_sections": true,
   "sideBar": true,
   "skip_h1_title": false,
   "title_cell": "Table of Contents",
   "title_sidebar": "Contents",
   "toc_cell": false,
   "toc_position": {},
   "toc_section_display": true,
   "toc_window_display": false
  },
  "varInspector": {
   "cols": {
    "lenName": 16,
    "lenType": 16,
    "lenVar": 40
   },
   "kernels_config": {
    "python": {
     "delete_cmd_postfix": "",
     "delete_cmd_prefix": "del ",
     "library": "var_list.py",
     "varRefreshCmd": "print(var_dic_list())"
    },
    "r": {
     "delete_cmd_postfix": ") ",
     "delete_cmd_prefix": "rm(",
     "library": "var_list.r",
     "varRefreshCmd": "cat(var_dic_list()) "
    }
   },
   "types_to_exclude": [
    "module",
    "function",
    "builtin_function_or_method",
    "instance",
    "_Feature"
   ],
   "window_display": false
  }
 },
 "nbformat": 4,
 "nbformat_minor": 4
}
