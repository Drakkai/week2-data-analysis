{
 "cells": [
  {
   "cell_type": "markdown",
   "execution_count": null,
   "metadata": {},
   "outputs": [],
   "source": [
    "[![Open In Colab](https://colab.research.google.com/assets/colab-badge.svg)](https://colab.research.google.com/github/ML-Challenge/week2-data-analysis/blob/master/L1.Numpy.ipynb)"
   ]
  },
  {
   "cell_type": "markdown",
   "metadata": {},
   "source": [
    "# Setup"
   ]
  },
  {
   "cell_type": "code",
   "execution_count": null,
   "metadata": {},
   "outputs": [],
   "source": [
    "# Download utils.py to working directory\n",
    "import urllib.request\n",
    "urllib.request.urlretrieve('https://raw.githubusercontent.com/ML-Challenge/week2-data-analysis/master/utils.py', 'utils.py')"
   ]
  },
  {
   "cell_type": "code",
   "execution_count": null,
   "metadata": {},
   "outputs": [],
   "source": [
    "# Import utils\n",
    "# We'll be using this module throughout the lesson\n",
    "import utils"
   ]
  },
  {
   "cell_type": "markdown",
   "metadata": {},
   "source": [
    "## NumPy"
   ]
  },
  {
   "cell_type": "markdown",
   "metadata": {},
   "source": [
    "NumPy is a fundamental Python package to efficiently practice data science. In this lesson we will learn to work with such powerful tools as the NumPy array, and get started with data exploration."
   ]
  },
  {
   "cell_type": "markdown",
   "metadata": {
    "ExecuteTime": {
     "end_time": "2020-01-27T07:52:04.320524Z",
     "start_time": "2020-01-27T07:52:04.308553Z"
    }
   },
   "source": [
    "### Our First NumPy Array"
   ]
  },
  {
   "cell_type": "markdown",
   "metadata": {},
   "source": [
    "We're going to dive into the world of baseball, along the way, we'll get comfortable with the basics of ```numpy```, a powerful data science package."
   ]
  },
  {
   "cell_type": "markdown",
   "metadata": {},
   "source": [
    "A list ```baseball``` has been defined in the Python script, representing the height of some baseball players in centimeters. Next, we'll see how to convert it to a NumPy array."
   ]
  },
  {
   "cell_type": "code",
   "execution_count": null,
   "metadata": {
    "ExecuteTime": {
     "end_time": "2020-01-27T11:08:04.808961Z",
     "start_time": "2020-01-27T11:08:04.804971Z"
    }
   },
   "outputs": [],
   "source": [
    "# Create list baseball\n",
    "baseball = [180, 215, 210, 210, 188, 176, 209, 200]"
   ]
  },
  {
   "cell_type": "code",
   "execution_count": null,
   "metadata": {
    "ExecuteTime": {
     "end_time": "2020-01-27T11:08:04.824918Z",
     "start_time": "2020-01-27T11:08:04.811953Z"
    }
   },
   "outputs": [],
   "source": [
    "# Import the numpy package as np\n",
    "import numpy as np"
   ]
  },
  {
   "cell_type": "code",
   "execution_count": null,
   "metadata": {
    "ExecuteTime": {
     "end_time": "2020-01-27T11:08:04.840875Z",
     "start_time": "2020-01-27T11:08:04.827909Z"
    }
   },
   "outputs": [],
   "source": [
    "# Create a numpy array from baseball: np_baseball\n",
    "np_baseball = np.array(baseball)"
   ]
  },
  {
   "cell_type": "code",
   "execution_count": null,
   "metadata": {
    "ExecuteTime": {
     "end_time": "2020-01-27T11:08:04.856832Z",
     "start_time": "2020-01-27T11:08:04.842870Z"
    }
   },
   "outputs": [],
   "source": [
    "# Print out type of np_baseball\n",
    "print(type(np_baseball))"
   ]
  },
  {
   "cell_type": "markdown",
   "metadata": {},
   "source": [
    "### Baseball players' height"
   ]
  },
  {
   "cell_type": "markdown",
   "metadata": {},
   "source": [
    "We've decided to call the MLB (Major League Baseball) and ask around for some more statistics on the height of the main players. They pass along data on more than a thousand players, which is stored as a regular Python list: ```height_in```. The height is expressed in inches. Since we now know how to convert ```height_in``` to a NumPy array, how about some additional processing? We don't like that the players' heights are in inches, let's convert them to meters."
   ]
  },
  {
   "cell_type": "code",
   "execution_count": null,
   "metadata": {
    "ExecuteTime": {
     "end_time": "2020-01-27T11:08:04.872790Z",
     "start_time": "2020-01-27T11:08:04.858827Z"
    }
   },
   "outputs": [],
   "source": [
    "# Create a numpy array from height: np_height\n",
    "np_height = np.array(utils.height_in)"
   ]
  },
  {
   "cell_type": "code",
   "execution_count": null,
   "metadata": {
    "ExecuteTime": {
     "end_time": "2020-01-27T11:08:04.888747Z",
     "start_time": "2020-01-27T11:08:04.875785Z"
    }
   },
   "outputs": [],
   "source": [
    "# Print out np_height\n",
    "print(np_height)"
   ]
  },
  {
   "cell_type": "markdown",
   "metadata": {},
   "source": [
    "Now that we have our NumPy array, how do we go about converting inches to meters?\n",
    "\n",
    "The solution? **NumPy broadcasting**"
   ]
  },
  {
   "cell_type": "code",
   "execution_count": null,
   "metadata": {
    "ExecuteTime": {
     "end_time": "2020-01-27T11:08:04.904705Z",
     "start_time": "2020-01-27T11:08:04.891742Z"
    }
   },
   "outputs": [],
   "source": [
    "# Convert np_height to m: np_height_m\n",
    "np_height_m = np_height * 0.0254 "
   ]
  },
  {
   "cell_type": "markdown",
   "metadata": {},
   "source": [
    "Awesome, right? We did the conversion in just one line of code.\n",
    "\n",
    "Broadcasting makes possible array arithmetic between arrays of different shape or size. In the case above, broadcasting allowed us to multiply an array and by a scalar."
   ]
  },
  {
   "cell_type": "code",
   "execution_count": null,
   "metadata": {
    "ExecuteTime": {
     "end_time": "2020-01-27T11:08:04.920691Z",
     "start_time": "2020-01-27T11:08:04.907696Z"
    }
   },
   "outputs": [],
   "source": [
    "# Print np_height_m\n",
    "print(np_height_m)"
   ]
  },
  {
   "cell_type": "markdown",
   "metadata": {},
   "source": [
    "### Baseball player's BMI"
   ]
  },
  {
   "cell_type": "markdown",
   "metadata": {},
   "source": [
    "The MLB also offers us their weight data. Again, both are available as regular Python lists: ```height_in``` and ```weight_lb```. ```height_in``` is in inches and ```weight_lb``` is in pounds."
   ]
  },
  {
   "cell_type": "markdown",
   "metadata": {},
   "source": [
    "It's now possible to calculate the BMI of each baseball player. We will use the following equation:"
   ]
  },
  {
   "cell_type": "markdown",
   "metadata": {},
   "source": [
    "$$\\mathrm{BMI} = \\frac{\\mathrm{weight (kg)}}{\\mathrm{height (m)}^2}$$"
   ]
  },
  {
   "cell_type": "code",
   "execution_count": null,
   "metadata": {
    "ExecuteTime": {
     "end_time": "2020-01-27T11:08:04.936646Z",
     "start_time": "2020-01-27T11:08:04.922658Z"
    }
   },
   "outputs": [],
   "source": [
    "# Create array from weight with correct units: np_weight_kg\n",
    "np_weight_kg = np.array(utils.weight_lb) * 0.453592"
   ]
  },
  {
   "cell_type": "code",
   "execution_count": null,
   "metadata": {
    "ExecuteTime": {
     "end_time": "2020-01-27T11:08:04.952610Z",
     "start_time": "2020-01-27T11:08:04.938615Z"
    }
   },
   "outputs": [],
   "source": [
    "# Calculate the BMI: bmi\n",
    "bmi = np_weight_kg / np_height_m ** 2"
   ]
  },
  {
   "cell_type": "code",
   "execution_count": null,
   "metadata": {
    "ExecuteTime": {
     "end_time": "2020-01-27T11:08:04.968593Z",
     "start_time": "2020-01-27T11:08:04.954607Z"
    }
   },
   "outputs": [],
   "source": [
    "# Print out bmi\n",
    "print(bmi)"
   ]
  },
  {
   "cell_type": "markdown",
   "metadata": {},
   "source": [
    "### Lightweight baseball players"
   ]
  },
  {
   "cell_type": "markdown",
   "metadata": {},
   "source": [
    "To subset both regular Python lists and ```numpy``` arrays, we can use square brackets:\n",
    "\n",
    "```\n",
    "x = [4 , 9 , 6, 3, 1]\n",
    "x[1]\n",
    "import numpy as np\n",
    "y = np.array(x)\n",
    "y[1]\n",
    "```"
   ]
  },
  {
   "cell_type": "markdown",
   "metadata": {},
   "source": [
    "For ```numpy``` specifically, we can also use boolean ```numpy``` arrays:\n",
    "\n",
    "```\n",
    "high = y > 5\n",
    "y[high]\n",
    "```"
   ]
  },
  {
   "cell_type": "code",
   "execution_count": null,
   "metadata": {
    "ExecuteTime": {
     "end_time": "2020-01-27T11:08:04.984516Z",
     "start_time": "2020-01-27T11:08:04.970536Z"
    }
   },
   "outputs": [],
   "source": [
    "# Create the light array\n",
    "light = bmi < 21"
   ]
  },
  {
   "cell_type": "code",
   "execution_count": null,
   "metadata": {
    "ExecuteTime": {
     "end_time": "2020-01-27T11:08:05.000483Z",
     "start_time": "2020-01-27T11:08:04.986486Z"
    }
   },
   "outputs": [],
   "source": [
    "# Print out light\n",
    "print(light)"
   ]
  },
  {
   "cell_type": "code",
   "execution_count": null,
   "metadata": {
    "ExecuteTime": {
     "end_time": "2020-01-27T11:08:05.016440Z",
     "start_time": "2020-01-27T11:08:05.002462Z"
    }
   },
   "outputs": [],
   "source": [
    "# Print out BMIs of all baseball players whose BMI is below 21\n",
    "print(bmi[light])"
   ]
  },
  {
   "cell_type": "markdown",
   "metadata": {},
   "source": [
    "### NumPy Side Effects"
   ]
  },
  {
   "cell_type": "markdown",
   "metadata": {},
   "source": [
    "```NumPy``` is great for doing vector arithmetic. If we compare its functionality with regular Python lists, however, some things have changed."
   ]
  },
  {
   "cell_type": "markdown",
   "metadata": {},
   "source": [
    "First of all, ```numpy``` arrays cannot contain elements with different types. If we try to build such a list, some of the elements' types are changed to end up with a homogeneous list. This is known as type coercion."
   ]
  },
  {
   "cell_type": "markdown",
   "metadata": {},
   "source": [
    "Second, the typical arithmetic operators, such as ```+```, ```-```, ```*``` and ```/``` have a different meaning for regular Python lists and ```numpy``` arrays."
   ]
  },
  {
   "cell_type": "markdown",
   "metadata": {},
   "source": [
    "Have a look at this line of code:\n",
    "\n",
    "```\n",
    "np.array([True, 1, 2]) + np.array([3, 4, False])\n",
    "```"
   ]
  },
  {
   "cell_type": "code",
   "execution_count": null,
   "metadata": {
    "ExecuteTime": {
     "end_time": "2020-01-27T11:08:05.032364Z",
     "start_time": "2020-01-27T11:08:05.018401Z"
    }
   },
   "outputs": [],
   "source": [
    "np.array([True, 1, 2])"
   ]
  },
  {
   "cell_type": "code",
   "execution_count": null,
   "metadata": {
    "ExecuteTime": {
     "end_time": "2020-01-27T11:08:05.048321Z",
     "start_time": "2020-01-27T11:08:05.037351Z"
    }
   },
   "outputs": [],
   "source": [
    "np.array([3, 4, False])"
   ]
  },
  {
   "cell_type": "code",
   "execution_count": null,
   "metadata": {
    "ExecuteTime": {
     "end_time": "2020-01-27T11:08:05.064280Z",
     "start_time": "2020-01-27T11:08:05.052311Z"
    }
   },
   "outputs": [],
   "source": [
    "np.array([True, 1, 2]) + np.array([3, 4, False])"
   ]
  },
  {
   "cell_type": "markdown",
   "metadata": {},
   "source": [
    "### Subsetting NumPy Arrays"
   ]
  },
  {
   "cell_type": "markdown",
   "metadata": {},
   "source": [
    "Python lists and ```numpy``` arrays sometimes behave differently. Luckily, there are still certainties in this world. For example, subsetting (using the square bracket notation on lists or arrays) works exactly the same:\n",
    "\n",
    "```\n",
    "x = [\"a\", \"b\", \"c\"]\n",
    "x[1]\n",
    "\n",
    "np_x = np.array(x)\n",
    "np_x[1]\n",
    "```"
   ]
  },
  {
   "cell_type": "code",
   "execution_count": null,
   "metadata": {
    "ExecuteTime": {
     "end_time": "2020-01-27T11:08:05.080268Z",
     "start_time": "2020-01-27T11:08:05.067270Z"
    }
   },
   "outputs": [],
   "source": [
    "# Print out the weight at index 50\n",
    "print(np_weight_kg[50])"
   ]
  },
  {
   "cell_type": "code",
   "execution_count": null,
   "metadata": {
    "ExecuteTime": {
     "end_time": "2020-01-27T11:08:05.096194Z",
     "start_time": "2020-01-27T11:08:05.082232Z"
    }
   },
   "outputs": [],
   "source": [
    "# Print out sub-array of np_height: index 100 up to and including index 110\n",
    "print(np_height_m[100:111])"
   ]
  },
  {
   "cell_type": "markdown",
   "metadata": {},
   "source": [
    "## 2D NumPy Arrays"
   ]
  },
  {
   "cell_type": "markdown",
   "metadata": {},
   "source": [
    "### Our First 2D NumPy Array"
   ]
  },
  {
   "cell_type": "markdown",
   "metadata": {},
   "source": [
    "Before working on the actual MLB data, let's try to create a 2D ```numpy``` array from a small list of lists."
   ]
  },
  {
   "cell_type": "code",
   "execution_count": null,
   "metadata": {
    "ExecuteTime": {
     "end_time": "2020-01-27T11:08:05.112175Z",
     "start_time": "2020-01-27T11:08:05.099186Z"
    }
   },
   "outputs": [],
   "source": [
    "# Create baseball_2d, a list of lists\n",
    "baseball_2d = [[180, 78.4],\n",
    "               [215, 102.7],\n",
    "               [210, 98.5],\n",
    "               [188, 75.2]]"
   ]
  },
  {
   "cell_type": "code",
   "execution_count": null,
   "metadata": {
    "ExecuteTime": {
     "end_time": "2020-01-27T11:08:05.128144Z",
     "start_time": "2020-01-27T11:08:05.114145Z"
    }
   },
   "outputs": [],
   "source": [
    "# Create a 2D numpy array from baseball_2d: np_baseball_2d\n",
    "np_baseball_2d = np.array(baseball_2d)"
   ]
  },
  {
   "cell_type": "code",
   "execution_count": null,
   "metadata": {
    "ExecuteTime": {
     "end_time": "2020-01-27T11:08:05.143093Z",
     "start_time": "2020-01-27T11:08:05.130103Z"
    }
   },
   "outputs": [],
   "source": [
    "# Print out the type of np_baseball_2d\n",
    "print(type(np_baseball_2d))"
   ]
  },
  {
   "cell_type": "code",
   "execution_count": null,
   "metadata": {
    "ExecuteTime": {
     "end_time": "2020-01-27T11:08:05.159025Z",
     "start_time": "2020-01-27T11:08:05.147082Z"
    }
   },
   "outputs": [],
   "source": [
    "# Print out the shape of np_baseball_2d\n",
    "print(np_baseball_2d.shape)"
   ]
  },
  {
   "cell_type": "markdown",
   "metadata": {},
   "source": [
    "### Baseball data in 2D form"
   ]
  },
  {
   "cell_type": "markdown",
   "metadata": {},
   "source": [
    "Looking at the MLB data, it makes more sense to restructure all this information in a 2D ```numpy``` array. This array should have 1015 rows, corresponding to the 1015 baseball players we have information on, and 2 columns (for height and weight)."
   ]
  },
  {
   "cell_type": "markdown",
   "metadata": {},
   "source": [
    "The MLB was, again, very helpful and passed us the data in a different structure, a Python list of lists. In this list of lists, each sublist represents the height and weight of a single baseball player. The name of this embedded list is ```baseball```."
   ]
  },
  {
   "cell_type": "code",
   "execution_count": null,
   "metadata": {
    "ExecuteTime": {
     "end_time": "2020-01-27T11:08:05.175013Z",
     "start_time": "2020-01-27T11:08:05.161020Z"
    }
   },
   "outputs": [],
   "source": [
    "# Create a 2D numpy array from baseball: np_baseball\n",
    "np_baseball = np.array(utils.baseball2D)"
   ]
  },
  {
   "cell_type": "code",
   "execution_count": null,
   "metadata": {
    "ExecuteTime": {
     "end_time": "2020-01-27T11:08:05.190973Z",
     "start_time": "2020-01-27T11:08:05.176976Z"
    }
   },
   "outputs": [],
   "source": [
    "# Print out the shape of np_baseball\n",
    "print(np_baseball.shape)"
   ]
  },
  {
   "cell_type": "markdown",
   "metadata": {},
   "source": [
    "### Subsetting 2D NumPy Arrays"
   ]
  },
  {
   "cell_type": "markdown",
   "metadata": {},
   "source": [
    "If the 2D ```numpy``` array has a regular structure, i.e. each row and column has a fixed number of values, complicated ways of subsetting become very easy. Have a look at the code below where the elements ```\"a\"``` and ```\"c\"``` are extracted from a list of lists.\n",
    "\n",
    "```\n",
    "# regular list of lists\n",
    "x = [[\"a\", \"b\"], [\"c\", \"d\"]]\n",
    "[x[0][0], x[1][0]]\n",
    "\n",
    "# numpy\n",
    "import numpy as np\n",
    "np_x = np.array(x)\n",
    "np_x[:,0]\n",
    "```"
   ]
  },
  {
   "cell_type": "markdown",
   "metadata": {},
   "source": [
    "For regular Python lists, this is a real pain. For 2D ```numpy``` arrays, however, it's pretty intuitive! The indexes before the comma refer to the rows, while those after the comma refer to the columns. The ```:``` is for slicing; in this example, it tells Python to include all rows."
   ]
  },
  {
   "cell_type": "code",
   "execution_count": null,
   "metadata": {
    "ExecuteTime": {
     "end_time": "2020-01-27T11:08:05.206898Z",
     "start_time": "2020-01-27T11:08:05.192934Z"
    }
   },
   "outputs": [],
   "source": [
    "# Print out the 50th row of np_baseball\n",
    "print(np_baseball[49,:])"
   ]
  },
  {
   "cell_type": "code",
   "execution_count": null,
   "metadata": {
    "ExecuteTime": {
     "end_time": "2020-01-27T11:08:05.222897Z",
     "start_time": "2020-01-27T11:08:05.208892Z"
    }
   },
   "outputs": [],
   "source": [
    "# Select the entire second column of np_baseball: np_weight\n",
    "np_weight_lb = np_baseball[:, 1]\n",
    "print(np_weight_lb)"
   ]
  },
  {
   "cell_type": "code",
   "execution_count": null,
   "metadata": {
    "ExecuteTime": {
     "end_time": "2020-01-27T11:08:05.238824Z",
     "start_time": "2020-01-27T11:08:05.224850Z"
    }
   },
   "outputs": [],
   "source": [
    "# Print out height of 124th player\n",
    "print(np_baseball[123,0])"
   ]
  },
  {
   "cell_type": "markdown",
   "metadata": {},
   "source": [
    "### 2D Arithmetic"
   ]
  },
  {
   "cell_type": "markdown",
   "metadata": {},
   "source": [
    "Remember how we calculated the Body Mass Index for all baseball players? ```numpy``` was able to perform all calculations element-wise (i.e. element by element). For 2D ```numpy``` arrays this isn't any different! We can combine matrices with single numbers, with vectors, and with other matrices:\n",
    "\n",
    "```\n",
    "import numpy as np\n",
    "np_mat = np.array([[1, 2],\n",
    "                   [3, 4],\n",
    "                   [5, 6]])\n",
    "np_mat * 2\n",
    "np_mat + np.array([10, 10])\n",
    "np_mat + np_mat\n",
    "```"
   ]
  },
  {
   "cell_type": "markdown",
   "metadata": {},
   "source": [
    "We managed to get hold of the changes in height, weight and age of all baseball players. It is available as a 2D ```numpy``` array, ```updated```."
   ]
  },
  {
   "cell_type": "code",
   "execution_count": null,
   "metadata": {
    "ExecuteTime": {
     "end_time": "2020-01-27T11:08:05.254803Z",
     "start_time": "2020-01-27T11:08:05.241804Z"
    }
   },
   "outputs": [],
   "source": [
    "np_baseball = np.array(utils.baseball)\n",
    "np_updated = np.array(utils.updated)"
   ]
  },
  {
   "cell_type": "markdown",
   "metadata": {},
   "source": [
    "Let's add ```np_baseball``` and ```updated``` and print out the result."
   ]
  },
  {
   "cell_type": "code",
   "execution_count": null,
   "metadata": {
    "ExecuteTime": {
     "end_time": "2020-01-27T11:08:05.269729Z",
     "start_time": "2020-01-27T11:08:05.255801Z"
    }
   },
   "outputs": [],
   "source": [
    "# Print out addition of np_baseball and np_updated\n",
    "print(np_baseball + np_updated)"
   ]
  },
  {
   "cell_type": "markdown",
   "metadata": {},
   "source": [
    "We want to convert the units of height and weight to metric (meters and kilograms respectively). As a first step, create a ```numpy``` array with three values: ```0.0254```, ```0.453592``` and ```1```."
   ]
  },
  {
   "cell_type": "code",
   "execution_count": null,
   "metadata": {
    "ExecuteTime": {
     "end_time": "2020-01-27T11:08:05.285723Z",
     "start_time": "2020-01-27T11:08:05.272721Z"
    }
   },
   "outputs": [],
   "source": [
    "conversion = np.array([0.0254, 0.453592, 1])"
   ]
  },
  {
   "cell_type": "code",
   "execution_count": null,
   "metadata": {
    "ExecuteTime": {
     "end_time": "2020-01-27T11:08:05.301669Z",
     "start_time": "2020-01-27T11:08:05.287682Z"
    }
   },
   "outputs": [],
   "source": [
    "# Print out product of np_baseball and conversion\n",
    "print(np_baseball * conversion)"
   ]
  },
  {
   "cell_type": "markdown",
   "metadata": {},
   "source": [
    "## Numpy: Basic Statistics"
   ]
  },
  {
   "cell_type": "markdown",
   "metadata": {},
   "source": [
    "### Average versus median"
   ]
  },
  {
   "cell_type": "markdown",
   "metadata": {},
   "source": [
    "Now we know how to use ```numpy``` functions to get a better feeling for our data. It basically comes down to importing ```numpy``` and then calling several simple functions on the ```numpy``` arrays:\n",
    "\n",
    "```\n",
    "import numpy as np\n",
    "x = [1, 4, 8, 10, 12]\n",
    "np.mean(x)\n",
    "np.median(x)\n",
    "```\n",
    "\n",
    "After restructuring the data, however, we notice that some height values are abnormally high. Follow the instructions and discover which summary statistic is best suited if we're dealing with so-called outliers."
   ]
  },
  {
   "cell_type": "code",
   "execution_count": null,
   "metadata": {
    "ExecuteTime": {
     "end_time": "2020-01-27T11:08:05.317603Z",
     "start_time": "2020-01-27T11:08:05.303640Z"
    }
   },
   "outputs": [],
   "source": [
    "np_baseball = np.array(utils.baseball_outliers)"
   ]
  },
  {
   "cell_type": "code",
   "execution_count": null,
   "metadata": {
    "ExecuteTime": {
     "end_time": "2020-01-27T11:08:05.332563Z",
     "start_time": "2020-01-27T11:08:05.319598Z"
    }
   },
   "outputs": [],
   "source": [
    "# Create np_height_in from np_baseball\n",
    "np_height_in = np_baseball[:, 0]"
   ]
  },
  {
   "cell_type": "code",
   "execution_count": null,
   "metadata": {
    "ExecuteTime": {
     "end_time": "2020-01-27T11:08:05.348518Z",
     "start_time": "2020-01-27T11:08:05.334589Z"
    }
   },
   "outputs": [],
   "source": [
    "# Print out the mean of np_height\n",
    "print(np.mean(np_height_in))"
   ]
  },
  {
   "cell_type": "code",
   "execution_count": null,
   "metadata": {
    "ExecuteTime": {
     "end_time": "2020-01-27T11:08:05.364503Z",
     "start_time": "2020-01-27T11:08:05.350514Z"
    }
   },
   "outputs": [],
   "source": [
    "# Print out the median of np_height\n",
    "print(np.median(np_height_in))"
   ]
  },
  {
   "cell_type": "markdown",
   "metadata": {},
   "source": [
    "### Explore the baseball data"
   ]
  },
  {
   "cell_type": "markdown",
   "metadata": {},
   "source": [
    "The mean and median are so far apart. After complaining to the MLB, they found the error and sent the corrected data over to us. It's again available as a 2D Numpy array ```np_baseball```, with three columns."
   ]
  },
  {
   "cell_type": "code",
   "execution_count": null,
   "metadata": {
    "ExecuteTime": {
     "end_time": "2020-01-27T11:08:05.379461Z",
     "start_time": "2020-01-27T11:08:05.366472Z"
    }
   },
   "outputs": [],
   "source": [
    "np_baseball = np.array(utils.baseball)"
   ]
  },
  {
   "cell_type": "code",
   "execution_count": null,
   "metadata": {
    "ExecuteTime": {
     "end_time": "2020-01-27T11:08:05.394430Z",
     "start_time": "2020-01-27T11:08:05.382437Z"
    }
   },
   "outputs": [],
   "source": [
    "# Print mean height (first column)\n",
    "avg = np.mean(np_baseball[:,0])\n",
    "print(\"Average: \" + str(avg))"
   ]
  },
  {
   "cell_type": "code",
   "execution_count": null,
   "metadata": {
    "ExecuteTime": {
     "end_time": "2020-01-27T11:08:05.410356Z",
     "start_time": "2020-01-27T11:08:05.397400Z"
    }
   },
   "outputs": [],
   "source": [
    "# Print median height.\n",
    "med = np.median(np_baseball[:, 0])\n",
    "print(\"Median: \" + str(med))"
   ]
  },
  {
   "cell_type": "code",
   "execution_count": null,
   "metadata": {
    "ExecuteTime": {
     "end_time": "2020-01-27T11:08:05.426313Z",
     "start_time": "2020-01-27T11:08:05.413363Z"
    }
   },
   "outputs": [],
   "source": [
    "# Print out the standard deviation on height.\n",
    "stddev = np.std(np_baseball[:, 0])\n",
    "print(\"Standard Deviation: \" + str(stddev))"
   ]
  },
  {
   "cell_type": "markdown",
   "metadata": {},
   "source": [
    "Do big players tend to be heavier?"
   ]
  },
  {
   "cell_type": "code",
   "execution_count": null,
   "metadata": {
    "ExecuteTime": {
     "end_time": "2020-01-27T11:08:05.442282Z",
     "start_time": "2020-01-27T11:08:05.429306Z"
    }
   },
   "outputs": [],
   "source": [
    "# Print out correlation between first and second column.\n",
    "corr = np.corrcoef(np_baseball[:, 0], np_baseball[:, 1])\n",
    "print(\"Correlation: \" + str(corr))"
   ]
  },
  {
   "cell_type": "markdown",
   "metadata": {},
   "source": [
    "## Blend it all together"
   ]
  },
  {
   "cell_type": "markdown",
   "metadata": {},
   "source": [
    "In the last few exercises we've learned everything there is to know about heights and weights of baseball players. Now it's time to dive into another sport: soccer."
   ]
  },
  {
   "cell_type": "markdown",
   "metadata": {},
   "source": [
    "After contacting FIFA for some data, they handed us two lists. The lists are the following:\n",
    "\n",
    "```\n",
    "positions = ['GK', 'M', 'A', 'D', ...]\n",
    "heights = [191, 184, 185, 180, ...]\n",
    "```"
   ]
  },
  {
   "cell_type": "markdown",
   "metadata": {},
   "source": [
    "Each element in the lists corresponds to a player. The first list, positions, contains strings representing each player's position. The possible positions are: ```'GK'``` (goalkeeper), ```'M'``` (midfield), ```'A'``` (attack) and ```'D'``` (defense). The second list, heights, contains integers representing the height of the player in cm. The first player in the lists is a goalkeeper and is pretty tall (191 cm)."
   ]
  },
  {
   "cell_type": "markdown",
   "metadata": {},
   "source": [
    "We're fairly confident that the median height of goalkeepers is higher than that of other players on the soccer field. Let's use our newly acquired NumPy skills to prove this."
   ]
  },
  {
   "cell_type": "code",
   "execution_count": null,
   "metadata": {
    "ExecuteTime": {
     "end_time": "2020-01-27T11:08:05.458225Z",
     "start_time": "2020-01-27T11:08:05.445260Z"
    }
   },
   "outputs": [],
   "source": [
    "# Import numpy\n",
    "import numpy as np"
   ]
  },
  {
   "cell_type": "code",
   "execution_count": null,
   "metadata": {
    "ExecuteTime": {
     "end_time": "2020-01-27T11:08:05.474182Z",
     "start_time": "2020-01-27T11:08:05.465207Z"
    }
   },
   "outputs": [],
   "source": [
    "# Convert positions and heights to numpy arrays: np_positions, np_heights\n",
    "np_positions = np.array(utils.positions)\n",
    "np_heights = np.array(utils.heights)"
   ]
  },
  {
   "cell_type": "code",
   "execution_count": null,
   "metadata": {
    "ExecuteTime": {
     "end_time": "2020-01-27T11:08:05.490139Z",
     "start_time": "2020-01-27T11:08:05.477174Z"
    }
   },
   "outputs": [],
   "source": [
    "# Heights of the goalkeepers: gk_heights\n",
    "gk_heights = np_heights[np_positions == \"GK\"]"
   ]
  },
  {
   "cell_type": "code",
   "execution_count": null,
   "metadata": {
    "ExecuteTime": {
     "end_time": "2020-01-27T11:08:05.506099Z",
     "start_time": "2020-01-27T11:08:05.493135Z"
    }
   },
   "outputs": [],
   "source": [
    "# Heights of the other players: other_heights\n",
    "other_heights = np_heights[np_positions != 'GK']"
   ]
  },
  {
   "cell_type": "code",
   "execution_count": null,
   "metadata": {
    "ExecuteTime": {
     "end_time": "2020-01-27T11:08:05.522056Z",
     "start_time": "2020-01-27T11:08:05.509090Z"
    }
   },
   "outputs": [],
   "source": [
    "# Print out the median height of goalkeepers. Replace 'None'\n",
    "print(\"Median height of goalkeepers: \" + str(np.median(gk_heights)))"
   ]
  },
  {
   "cell_type": "code",
   "execution_count": null,
   "metadata": {
    "ExecuteTime": {
     "end_time": "2020-01-27T11:08:05.538011Z",
     "start_time": "2020-01-27T11:08:05.525047Z"
    }
   },
   "outputs": [],
   "source": [
    "# Print out the median height of other players. Replace 'None'\n",
    "print(\"Median height of other players: \" + str(np.median(other_heights)))"
   ]
  },
  {
   "cell_type": "markdown",
   "metadata": {},
   "source": [
    "---\n",
    "**[Week 2 - Data Analysis and Visualisation](https://radu-enuca.gitbook.io/ml-challenge/data-analysis-and-visualisation)**\n",
    "\n",
    "*Have questions or comments? Visit the ML Challenge Mattermost Channel.*"
   ]
  }
 ],
 "metadata": {
  "kernelspec": {
   "display_name": "Python 3",
   "language": "python",
   "name": "python3"
  },
  "language_info": {
   "codemirror_mode": {
    "name": "ipython",
    "version": 3
   },
   "file_extension": ".py",
   "mimetype": "text/x-python",
   "name": "python",
   "nbconvert_exporter": "python",
   "pygments_lexer": "ipython3",
   "version": "3.7.4"
  },
  "toc": {
   "base_numbering": 1,
   "nav_menu": {},
   "number_sections": true,
   "sideBar": true,
   "skip_h1_title": false,
   "title_cell": "Table of Contents",
   "title_sidebar": "Contents",
   "toc_cell": false,
   "toc_position": {},
   "toc_section_display": true,
   "toc_window_display": true
  },
  "varInspector": {
   "cols": {
    "lenName": 16,
    "lenType": 16,
    "lenVar": 40
   },
   "kernels_config": {
    "python": {
     "delete_cmd_postfix": "",
     "delete_cmd_prefix": "del ",
     "library": "var_list.py",
     "varRefreshCmd": "print(var_dic_list())"
    },
    "r": {
     "delete_cmd_postfix": ") ",
     "delete_cmd_prefix": "rm(",
     "library": "var_list.r",
     "varRefreshCmd": "cat(var_dic_list()) "
    }
   },
   "types_to_exclude": [
    "module",
    "function",
    "builtin_function_or_method",
    "instance",
    "_Feature"
   ],
   "window_display": false
  }
 },
 "nbformat": 4,
 "nbformat_minor": 4
}